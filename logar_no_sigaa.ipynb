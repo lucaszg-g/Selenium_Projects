{
 "cells": [
  {
   "cell_type": "code",
   "execution_count": 34,
   "id": "initial_id",
   "metadata": {
    "collapsed": true,
    "ExecuteTime": {
     "end_time": "2024-01-27T20:23:01.528751100Z",
     "start_time": "2024-01-27T20:23:01.523112500Z"
    }
   },
   "outputs": [],
   "source": [
    "from time import sleep\n",
    "import pandas as pd\n",
    "\n",
    "from selenium import webdriver\n",
    "from webdriver_manager.chrome import ChromeDriverManager\n",
    "from selenium.webdriver.chrome.service import Service\n",
    "from selenium.webdriver.common.by import By"
   ]
  },
  {
   "cell_type": "code",
   "outputs": [],
   "source": [
    "usuario = '232004506'\n",
    "senha = 'Unb.08351994103'"
   ],
   "metadata": {
    "collapsed": false
   },
   "id": "dfaa6f69239cdc4",
   "execution_count": 35
  },
  {
   "cell_type": "code",
   "outputs": [],
   "source": [
    "servico = Service(ChromeDriverManager().install())\n",
    "navegador = webdriver.Chrome(service=servico)\n"
   ],
   "metadata": {
    "collapsed": false,
    "ExecuteTime": {
     "end_time": "2024-01-27T20:23:08.727989Z",
     "start_time": "2024-01-27T20:23:01.532909700Z"
    }
   },
   "id": "2488cc90ad309d3f",
   "execution_count": 36
  },
  {
   "cell_type": "code",
   "outputs": [],
   "source": [
    "navegador.get('https://autenticacao.unb.br/sso-server/login?service=https%3A%2F%2Fsig.unb.br%2Fsigaa%2Flogin%2Fcas')"
   ],
   "metadata": {
    "collapsed": false,
    "ExecuteTime": {
     "end_time": "2024-01-27T20:23:08.900659Z",
     "start_time": "2024-01-27T20:23:08.729983300Z"
    }
   },
   "id": "56f752f75d32066f",
   "execution_count": 37
  },
  {
   "cell_type": "code",
   "outputs": [],
   "source": [
    "navegador.find_element('xpath', '//*[@id=\"username\"]').send_keys(usuario)\n",
    "navegador.find_element('xpath', '//*[@id=\"password\"]').send_keys(senha)\n",
    "navegador.find_element('xpath', '//*[@id=\"login-form\"]/button').click()\n"
   ],
   "metadata": {
    "collapsed": false,
    "ExecuteTime": {
     "end_time": "2024-01-27T20:23:10.408798300Z",
     "start_time": "2024-01-27T20:23:08.900659Z"
    }
   },
   "id": "8a191495e01c4e6",
   "execution_count": 38
  }
 ],
 "metadata": {
  "kernelspec": {
   "display_name": "Python 3",
   "language": "python",
   "name": "python3"
  },
  "language_info": {
   "codemirror_mode": {
    "name": "ipython",
    "version": 2
   },
   "file_extension": ".py",
   "mimetype": "text/x-python",
   "name": "python",
   "nbconvert_exporter": "python",
   "pygments_lexer": "ipython2",
   "version": "2.7.6"
  }
 },
 "nbformat": 4,
 "nbformat_minor": 5
}
